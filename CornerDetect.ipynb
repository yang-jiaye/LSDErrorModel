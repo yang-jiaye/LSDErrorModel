{
 "cells": [
  {
   "cell_type": "code",
   "execution_count": 1,
   "metadata": {},
   "outputs": [],
   "source": [
    "import os\n",
    "import cv2\n",
    "import numpy as np\n",
    "import matplotlib.pyplot as plt\n",
    "\n",
    "dir_path  = \"Chessboard\"\n",
    "xCoord = [[np.array([]) for _ in range(9)] for _ in range(9)]\n",
    "yCoord = [[np.array([]) for _ in range(9)] for _ in range(9)]\n",
    "\n",
    "for i in range(0,1):\n",
    "    dir_path = dir_path + \"/test\" + str(i)\n",
    "    file_list = os.listdir(dir_path)\n",
    "    \n",
    "    for file_name in file_list:\n",
    "        file_path = os.path.join(dir_path, file_name)\n",
    "        image = cv2.imread(file_path)\n",
    "        if image is None:\n",
    "            print(\"image does not exit\")\n",
    "            continue\n",
    "        image = image[100:600, 400:1000]\n",
    "        \n",
    "        pattern_size = (9, 9)\n",
    "        gray = cv2.cvtColor(image, cv2.COLOR_BGR2GRAY)\n",
    "\n",
    "        found, corners = cv2.findChessboardCorners(gray, pattern_size, None)\n",
    "\n",
    "        if not found:\n",
    "            print(\"Chessboard Corner not Found\")\n",
    "            continue\n",
    "\n",
    "        criteria = (cv2.TERM_CRITERIA_EPS + cv2.TERM_CRITERIA_MAX_ITER, 30, 0.001)\n",
    "        cv2.cornerSubPix(gray, corners, (5, 5), (-1, -1), criteria)\n",
    "\n",
    "        corners = sorted(corners, key=lambda x: (x[0][0], x[0][1]))\n",
    "        corners = np.asarray(corners)\n",
    "            \n",
    "        cv2.drawChessboardCorners(image, pattern_size, corners, found)\n",
    "        cv2.imwrite(\"./Corners/\"+file_name, image)\n",
    "\n",
    "        for i in range(0, 9):\n",
    "            for j in range(0, 9):\n",
    "                x = corners[(i-1) * 9 + (j-1)][0][0]\n",
    "                y = corners[(i-1) * 9 + (j-1)][0][1]\n",
    "                xCoord[i][j] = np.append(xCoord[i][j], x)\n",
    "                yCoord[i][j] = np.append(yCoord[i][j], y)   "
   ]
  },
  {
   "cell_type": "code",
   "execution_count": 8,
   "metadata": {},
   "outputs": [
    {
     "data": {
      "image/png": "[encoded data removed]",
      "text/plain": [
       "<Figure size 640x480 with 1 Axes>"
      ]
     },
     "metadata": {},
     "output_type": "display_data"
    }
   ],
   "source": [
    "data = xCoord[1][8]\n",
    "plt.hist(data, bins=100)\n",
    "plt.show()"
   ]
  }
 ],
 "metadata": {
  "kernelspec": {
   "display_name": "dev",
   "language": "python",
   "name": "python3"
  },
  "language_info": {
   "codemirror_mode": {
    "name": "ipython",
    "version": 3
   },
   "file_extension": ".py",
   "mimetype": "text/x-python",
   "name": "python",
   "nbconvert_exporter": "python",
   "pygments_lexer": "ipython3",
   "version": "3.12.1"
  }
 },
 "nbformat": 4,
 "nbformat_minor": 2
}
